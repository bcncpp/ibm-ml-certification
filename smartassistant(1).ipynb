{
 "cells": [
  {
   "cell_type": "code",
   "execution_count": 1,
   "id": "39c98b90",
   "metadata": {
    "execution": {
     "iopub.execute_input": "2025-04-12T21:51:38.847335Z",
     "iopub.status.busy": "2025-04-12T21:51:38.846997Z",
     "iopub.status.idle": "2025-04-12T21:51:38.858448Z",
     "shell.execute_reply": "2025-04-12T21:51:38.857549Z"
    },
    "papermill": {
     "duration": 0.024442,
     "end_time": "2025-04-12T21:51:38.860150",
     "exception": false,
     "start_time": "2025-04-12T21:51:38.835708",
     "status": "completed"
    },
    "tags": []
   },
   "outputs": [
    {
     "data": {
      "text/plain": [
       "\"\\nWelcome to the Capstone Project for the Kaggle 5-Day Gen AI Intensive.\\n\\n🌟 Project Title: Smart Personal Task & Reminder Assistant\\n\\n📌 Problem: Most people manage tasks across chats, documents, and mental notes.\\nThis app helps users extract and organize tasks/reminders from raw text and uploaded files\\nusing Gemini 2.0 with Generative AI techniques.\\n\\n💡 Solution: A GenAI-powered assistant that:\\n- Extracts tasks from user text or documents (Few-shot prompting)\\n- Retrieves relevant past tasks (RAG)\\n- Understands user-uploaded content (Document Understanding)\\n\\nWe aim to demonstrate the use of:\\n1. Retrieval-Augmented Generation (RAG)\\n2. Few-shot Prompting\\n3. Document Understanding\\n\\nBonus goals: Context caching, MLOps-friendly logging, and structured JSON outputs.\\n\\nWe'll build this step by step below 👇\\n\""
      ]
     },
     "execution_count": 1,
     "metadata": {},
     "output_type": "execute_result"
    }
   ],
   "source": [
    "# 🧠 SMART PERSONAL TASK & REMINDER ASSISTANT USING GEN AI (GEMINI 2.0)\n",
    "\n",
    "# ✅ SECTION 1: INTRODUCTION\n",
    "\"\"\"\n",
    "Welcome to the Capstone Project for the Kaggle 5-Day Gen AI Intensive.\n",
    "\n",
    "🌟 Project Title: Smart Personal Task & Reminder Assistant\n",
    "\n",
    "📌 Problem: Most people manage tasks across chats, documents, and mental notes.\n",
    "This app helps users extract and organize tasks/reminders from raw text and uploaded files\n",
    "using Gemini 2.0 with Generative AI techniques.\n",
    "\n",
    "💡 Solution: A GenAI-powered assistant that:\n",
    "- Extracts tasks from user text or documents (Few-shot prompting)\n",
    "- Retrieves relevant past tasks (RAG)\n",
    "- Understands user-uploaded content (Document Understanding)\n",
    "\n",
    "We aim to demonstrate the use of:\n",
    "1. Retrieval-Augmented Generation (RAG)\n",
    "2. Few-shot Prompting\n",
    "3. Document Understanding\n",
    "\n",
    "Bonus goals: Context caching, MLOps-friendly logging, and structured JSON outputs.\n",
    "\n",
    "We'll build this step by step below 👇\n",
    "\"\"\""
   ]
  },
  {
   "cell_type": "code",
   "execution_count": 2,
   "id": "76599f3c",
   "metadata": {
    "execution": {
     "iopub.execute_input": "2025-04-12T21:51:38.879595Z",
     "iopub.status.busy": "2025-04-12T21:51:38.879039Z",
     "iopub.status.idle": "2025-04-12T21:51:45.979162Z",
     "shell.execute_reply": "2025-04-12T21:51:45.977858Z"
    },
    "papermill": {
     "duration": 7.11169,
     "end_time": "2025-04-12T21:51:45.981118",
     "exception": false,
     "start_time": "2025-04-12T21:51:38.869428",
     "status": "completed"
    },
    "tags": []
   },
   "outputs": [
    {
     "name": "stdout",
     "output_type": "stream",
     "text": [
      "\u001b[2K   \u001b[90m━━━━━━━━━━━━━━━━━━━━━━━━━━━━━━━━━━━━━━━━\u001b[0m \u001b[32m30.7/30.7 MB\u001b[0m \u001b[31m50.0 MB/s\u001b[0m eta \u001b[36m0:00:00\u001b[0m\r\n",
      "\u001b[?25h"
     ]
    }
   ],
   "source": [
    "!pip install faiss-cpu -q pandas numpy"
   ]
  },
  {
   "cell_type": "code",
   "execution_count": 3,
   "id": "96c38f8c",
   "metadata": {
    "execution": {
     "iopub.execute_input": "2025-04-12T21:51:46.002149Z",
     "iopub.status.busy": "2025-04-12T21:51:46.001751Z",
     "iopub.status.idle": "2025-04-12T21:51:52.485336Z",
     "shell.execute_reply": "2025-04-12T21:51:52.484067Z"
    },
    "papermill": {
     "duration": 6.495948,
     "end_time": "2025-04-12T21:51:52.487195",
     "exception": false,
     "start_time": "2025-04-12T21:51:45.991247",
     "status": "completed"
    },
    "tags": []
   },
   "outputs": [
    {
     "name": "stdout",
     "output_type": "stream",
     "text": [
      "Requirement already satisfied: google-api-python-client in /usr/local/lib/python3.11/dist-packages (2.160.0)\r\n",
      "Collecting google-api-python-client\r\n",
      "  Downloading google_api_python_client-2.166.0-py2.py3-none-any.whl.metadata (6.6 kB)\r\n",
      "Requirement already satisfied: google-auth-httplib2 in /usr/local/lib/python3.11/dist-packages (0.2.0)\r\n",
      "Requirement already satisfied: google-auth-oauthlib in /usr/local/lib/python3.11/dist-packages (1.2.1)\r\n",
      "Requirement already satisfied: httplib2<1.0.0,>=0.19.0 in /usr/local/lib/python3.11/dist-packages (from google-api-python-client) (0.22.0)\r\n",
      "Requirement already satisfied: google-auth!=2.24.0,!=2.25.0,<3.0.0,>=1.32.0 in /usr/local/lib/python3.11/dist-packages (from google-api-python-client) (2.27.0)\r\n",
      "Requirement already satisfied: google-api-core!=2.0.*,!=2.1.*,!=2.2.*,!=2.3.0,<3.0.0,>=1.31.5 in /usr/local/lib/python3.11/dist-packages (from google-api-python-client) (1.34.1)\r\n",
      "Requirement already satisfied: uritemplate<5,>=3.0.1 in /usr/local/lib/python3.11/dist-packages (from google-api-python-client) (4.1.1)\r\n",
      "Requirement already satisfied: requests-oauthlib>=0.7.0 in /usr/local/lib/python3.11/dist-packages (from google-auth-oauthlib) (2.0.0)\r\n",
      "Requirement already satisfied: googleapis-common-protos<2.0dev,>=1.56.2 in /usr/local/lib/python3.11/dist-packages (from google-api-core!=2.0.*,!=2.1.*,!=2.2.*,!=2.3.0,<3.0.0,>=1.31.5->google-api-python-client) (1.67.0)\r\n",
      "Requirement already satisfied: protobuf!=3.20.0,!=3.20.1,!=4.21.0,!=4.21.1,!=4.21.2,!=4.21.3,!=4.21.4,!=4.21.5,<4.0.0dev,>=3.19.5 in /usr/local/lib/python3.11/dist-packages (from google-api-core!=2.0.*,!=2.1.*,!=2.2.*,!=2.3.0,<3.0.0,>=1.31.5->google-api-python-client) (3.20.3)\r\n",
      "Requirement already satisfied: requests<3.0.0dev,>=2.18.0 in /usr/local/lib/python3.11/dist-packages (from google-api-core!=2.0.*,!=2.1.*,!=2.2.*,!=2.3.0,<3.0.0,>=1.31.5->google-api-python-client) (2.32.3)\r\n",
      "Requirement already satisfied: cachetools<6.0,>=2.0.0 in /usr/local/lib/python3.11/dist-packages (from google-auth!=2.24.0,!=2.25.0,<3.0.0,>=1.32.0->google-api-python-client) (5.5.2)\r\n",
      "Requirement already satisfied: pyasn1-modules>=0.2.1 in /usr/local/lib/python3.11/dist-packages (from google-auth!=2.24.0,!=2.25.0,<3.0.0,>=1.32.0->google-api-python-client) (0.4.1)\r\n",
      "Requirement already satisfied: rsa<5,>=3.1.4 in /usr/local/lib/python3.11/dist-packages (from google-auth!=2.24.0,!=2.25.0,<3.0.0,>=1.32.0->google-api-python-client) (4.9)\r\n",
      "Requirement already satisfied: pyparsing!=3.0.0,!=3.0.1,!=3.0.2,!=3.0.3,<4,>=2.4.2 in /usr/local/lib/python3.11/dist-packages (from httplib2<1.0.0,>=0.19.0->google-api-python-client) (3.2.1)\r\n",
      "Requirement already satisfied: oauthlib>=3.0.0 in /usr/local/lib/python3.11/dist-packages (from requests-oauthlib>=0.7.0->google-auth-oauthlib) (3.2.2)\r\n",
      "Requirement already satisfied: pyasn1<0.7.0,>=0.4.6 in /usr/local/lib/python3.11/dist-packages (from pyasn1-modules>=0.2.1->google-auth!=2.24.0,!=2.25.0,<3.0.0,>=1.32.0->google-api-python-client) (0.6.1)\r\n",
      "Requirement already satisfied: charset-normalizer<4,>=2 in /usr/local/lib/python3.11/dist-packages (from requests<3.0.0dev,>=2.18.0->google-api-core!=2.0.*,!=2.1.*,!=2.2.*,!=2.3.0,<3.0.0,>=1.31.5->google-api-python-client) (3.4.1)\r\n",
      "Requirement already satisfied: idna<4,>=2.5 in /usr/local/lib/python3.11/dist-packages (from requests<3.0.0dev,>=2.18.0->google-api-core!=2.0.*,!=2.1.*,!=2.2.*,!=2.3.0,<3.0.0,>=1.31.5->google-api-python-client) (3.10)\r\n",
      "Requirement already satisfied: urllib3<3,>=1.21.1 in /usr/local/lib/python3.11/dist-packages (from requests<3.0.0dev,>=2.18.0->google-api-core!=2.0.*,!=2.1.*,!=2.2.*,!=2.3.0,<3.0.0,>=1.31.5->google-api-python-client) (2.3.0)\r\n",
      "Requirement already satisfied: certifi>=2017.4.17 in /usr/local/lib/python3.11/dist-packages (from requests<3.0.0dev,>=2.18.0->google-api-core!=2.0.*,!=2.1.*,!=2.2.*,!=2.3.0,<3.0.0,>=1.31.5->google-api-python-client) (2025.1.31)\r\n",
      "Downloading google_api_python_client-2.166.0-py2.py3-none-any.whl (13.2 MB)\r\n",
      "\u001b[2K   \u001b[90m━━━━━━━━━━━━━━━━━━━━━━━━━━━━━━━━━━━━━━━━\u001b[0m \u001b[32m13.2/13.2 MB\u001b[0m \u001b[31m92.3 MB/s\u001b[0m eta \u001b[36m0:00:00\u001b[0m\r\n",
      "\u001b[?25hInstalling collected packages: google-api-python-client\r\n",
      "  Attempting uninstall: google-api-python-client\r\n",
      "    Found existing installation: google-api-python-client 2.160.0\r\n",
      "    Uninstalling google-api-python-client-2.160.0:\r\n",
      "      Successfully uninstalled google-api-python-client-2.160.0\r\n",
      "\u001b[31mERROR: pip's dependency resolver does not currently take into account all the packages that are installed. This behaviour is the source of the following dependency conflicts.\r\n",
      "pydrive2 1.21.3 requires cryptography<44, but you have cryptography 44.0.2 which is incompatible.\r\n",
      "pydrive2 1.21.3 requires pyOpenSSL<=24.2.1,>=19.1.0, but you have pyopenssl 25.0.0 which is incompatible.\u001b[0m\u001b[31m\r\n",
      "\u001b[0mSuccessfully installed google-api-python-client-2.166.0\r\n"
     ]
    }
   ],
   "source": [
    "!pip install --upgrade google-api-python-client google-auth-httplib2 google-auth-oauthlib"
   ]
  },
  {
   "cell_type": "code",
   "execution_count": 4,
   "id": "bb8f092e",
   "metadata": {
    "execution": {
     "iopub.execute_input": "2025-04-12T21:51:52.508925Z",
     "iopub.status.busy": "2025-04-12T21:51:52.508596Z",
     "iopub.status.idle": "2025-04-12T21:51:57.855349Z",
     "shell.execute_reply": "2025-04-12T21:51:57.854262Z"
    },
    "papermill": {
     "duration": 5.359885,
     "end_time": "2025-04-12T21:51:57.857318",
     "exception": false,
     "start_time": "2025-04-12T21:51:52.497433",
     "status": "completed"
    },
    "tags": []
   },
   "outputs": [
    {
     "name": "stderr",
     "output_type": "stream",
     "text": [
      "/usr/local/lib/python3.11/dist-packages/pydantic/_internal/_generate_schema.py:623: UserWarning: <built-in function any> is not a Python type (it may be an instance of an object), Pydantic will allow any object with no validation since we cannot even enforce that the input is an instance of the given type. To get rid of this error wrap the type with `pydantic.SkipValidation`.\n",
      "  warn(\n"
     ]
    }
   ],
   "source": [
    "import os\n",
    "import pandas as pd\n",
    "import numpy as np\n",
    "from google import generativeai as genai\n",
    "from google.genai import types\n",
    "from kaggle_secrets import UserSecretsClient\n",
    "import faiss\n",
    "import json"
   ]
  },
  {
   "cell_type": "code",
   "execution_count": 5,
   "id": "6950812c",
   "metadata": {
    "execution": {
     "iopub.execute_input": "2025-04-12T21:51:57.879564Z",
     "iopub.status.busy": "2025-04-12T21:51:57.878933Z",
     "iopub.status.idle": "2025-04-12T21:51:58.053159Z",
     "shell.execute_reply": "2025-04-12T21:51:58.052227Z"
    },
    "papermill": {
     "duration": 0.187194,
     "end_time": "2025-04-12T21:51:58.054989",
     "exception": false,
     "start_time": "2025-04-12T21:51:57.867795",
     "status": "completed"
    },
    "tags": []
   },
   "outputs": [],
   "source": [
    "# Load API Key from Kaggle Secrets\n",
    "GOOGLE_API_KEY = UserSecretsClient().get_secret(\"GOOGLE_API_KEY\")\n",
    "os.environ[\"GOOGLE_API_KEY\"] = GOOGLE_API_KEY"
   ]
  },
  {
   "cell_type": "code",
   "execution_count": 6,
   "id": "05c977b4",
   "metadata": {
    "execution": {
     "iopub.execute_input": "2025-04-12T21:51:58.078182Z",
     "iopub.status.busy": "2025-04-12T21:51:58.077844Z",
     "iopub.status.idle": "2025-04-12T21:51:58.082606Z",
     "shell.execute_reply": "2025-04-12T21:51:58.081629Z"
    },
    "papermill": {
     "duration": 0.017847,
     "end_time": "2025-04-12T21:51:58.084630",
     "exception": false,
     "start_time": "2025-04-12T21:51:58.066783",
     "status": "completed"
    },
    "tags": []
   },
   "outputs": [],
   "source": [
    "genai.configure(api_key=GOOGLE_API_KEY)\n"
   ]
  },
  {
   "cell_type": "code",
   "execution_count": 7,
   "id": "cada9dfa",
   "metadata": {
    "execution": {
     "iopub.execute_input": "2025-04-12T21:51:58.107363Z",
     "iopub.status.busy": "2025-04-12T21:51:58.106645Z",
     "iopub.status.idle": "2025-04-12T21:51:58.111336Z",
     "shell.execute_reply": "2025-04-12T21:51:58.110501Z"
    },
    "papermill": {
     "duration": 0.017938,
     "end_time": "2025-04-12T21:51:58.112821",
     "exception": false,
     "start_time": "2025-04-12T21:51:58.094883",
     "status": "completed"
    },
    "tags": []
   },
   "outputs": [],
   "source": [
    "# Create a FAISS index for semantic task search (RAG memory)\n",
    "embedding_dim = 768  # Gemini embedding size\n",
    "task_texts = []\n",
    "task_metadata = []\n",
    "index = faiss.IndexFlatIP(embedding_dim)"
   ]
  },
  {
   "cell_type": "code",
   "execution_count": 8,
   "id": "96b6f4ca",
   "metadata": {
    "execution": {
     "iopub.execute_input": "2025-04-12T21:51:58.134915Z",
     "iopub.status.busy": "2025-04-12T21:51:58.134238Z",
     "iopub.status.idle": "2025-04-12T21:51:58.140563Z",
     "shell.execute_reply": "2025-04-12T21:51:58.139656Z"
    },
    "papermill": {
     "duration": 0.018916,
     "end_time": "2025-04-12T21:51:58.142259",
     "exception": false,
     "start_time": "2025-04-12T21:51:58.123343",
     "status": "completed"
    },
    "tags": []
   },
   "outputs": [],
   "source": [
    "# Sample few-shot examples to teach Gemini how to extract tasks\n",
    "FEW_SHOT_EXAMPLES = [\n",
    "    {\n",
    "        \"input\": \"Remind me to submit the assignment before Sunday night\",\n",
    "        \"output\": {\n",
    "            \"task\": \"Submit the assignment\",\n",
    "            \"time\": \"Sunday night\",\n",
    "            \"priority\": \"high\"\n",
    "        }\n",
    "    },\n",
    "    {\n",
    "        \"input\": \"Check groceries and restock if fridge is empty\",\n",
    "        \"output\": {\n",
    "            \"task\": \"Restock groceries\",\n",
    "            \"condition\": \"if fridge is empty\",\n",
    "            \"priority\": \"medium\"\n",
    "        }\n",
    "    },\n",
    "    {\n",
    "        \"input\": \"If weather is good, go for a morning walk at 6 AM\",\n",
    "        \"output\": {\n",
    "            \"task\": \"Go for morning walk\",\n",
    "            \"time\": \"6 AM\",\n",
    "            \"condition\": \"If weather is good\"\n",
    "        }\n",
    "    }\n",
    "]\n",
    "\n",
    "# Construct the few-shot prompt\n",
    "prompt_header = \"\"\"You are a smart assistant that extracts reminders from messages.\n",
    "Return a JSON object with: task (required), time (optional), condition (optional), priority (optional).\"\"\"\n",
    "\n",
    "few_shot_prompt = prompt_header\n",
    "for ex in FEW_SHOT_EXAMPLES:\n",
    "    few_shot_prompt += f\"\\nInput: {ex['input']}\\nOutput: {ex['output']}\"\n"
   ]
  },
  {
   "cell_type": "code",
   "execution_count": 9,
   "id": "4a326763",
   "metadata": {
    "execution": {
     "iopub.execute_input": "2025-04-12T21:51:58.164275Z",
     "iopub.status.busy": "2025-04-12T21:51:58.163915Z",
     "iopub.status.idle": "2025-04-12T21:51:58.169176Z",
     "shell.execute_reply": "2025-04-12T21:51:58.168337Z"
    },
    "papermill": {
     "duration": 0.017809,
     "end_time": "2025-04-12T21:51:58.170574",
     "exception": false,
     "start_time": "2025-04-12T21:51:58.152765",
     "status": "completed"
    },
    "tags": []
   },
   "outputs": [],
   "source": [
    "def extract_task_from_input(user_input):\n",
    "    prompt = f\"{few_shot_prompt}\\n\\nInput: {user_input}\\nOutput:\"\n",
    "    model = genai.GenerativeModel(\"gemini-2.0-flash\")\n",
    "    response = model.generate_content(\n",
    "        contents=[prompt],\n",
    "        generation_config={\"candidate_count\": 1}  # ✅ FIXED: use dict instead of GenerationConfig object\n",
    "    )\n",
    "    return response.text.strip()\n"
   ]
  },
  {
   "cell_type": "code",
   "execution_count": 10,
   "id": "6fcda0c3",
   "metadata": {
    "execution": {
     "iopub.execute_input": "2025-04-12T21:51:58.191967Z",
     "iopub.status.busy": "2025-04-12T21:51:58.191265Z",
     "iopub.status.idle": "2025-04-12T21:51:58.879477Z",
     "shell.execute_reply": "2025-04-12T21:51:58.878147Z"
    },
    "papermill": {
     "duration": 0.700564,
     "end_time": "2025-04-12T21:51:58.881122",
     "exception": false,
     "start_time": "2025-04-12T21:51:58.180558",
     "status": "completed"
    },
    "tags": []
   },
   "outputs": [
    {
     "name": "stdout",
     "output_type": "stream",
     "text": [
      "\n",
      "📌 Extracted Task: ```json\n",
      "{\"task\": \"Schedule a Zoom call with the recruiter\", \"time\": \"next Tuesday at 3 PM\"}\n",
      "```\n",
      "\n"
     ]
    }
   ],
   "source": [
    "# Try extracting a task from a sample user message\n",
    "sample_input = \"Schedule a Zoom call with the recruiter next Tuesday at 3 PM\"\n",
    "output = extract_task_from_input(sample_input)\n",
    "print(f\"\\n📌 Extracted Task: {output}\\n\")\n"
   ]
  },
  {
   "cell_type": "code",
   "execution_count": 11,
   "id": "ba4b5bd4",
   "metadata": {
    "execution": {
     "iopub.execute_input": "2025-04-12T21:51:58.903195Z",
     "iopub.status.busy": "2025-04-12T21:51:58.902867Z",
     "iopub.status.idle": "2025-04-12T21:51:58.909726Z",
     "shell.execute_reply": "2025-04-12T21:51:58.908503Z"
    },
    "papermill": {
     "duration": 0.020149,
     "end_time": "2025-04-12T21:51:58.911466",
     "exception": false,
     "start_time": "2025-04-12T21:51:58.891317",
     "status": "completed"
    },
    "tags": []
   },
   "outputs": [
    {
     "data": {
      "text/plain": [
       "'\\nNext Step: Extract Tasks from Uploaded Notes/Documents\\nThis will allow users to:\\n- Upload meeting notes, planning docs, or long messages.\\n- Automatically extract multiple tasks/reminders from the document.\\n'"
      ]
     },
     "execution_count": 11,
     "metadata": {},
     "output_type": "execute_result"
    }
   ],
   "source": [
    "\"\"\"\n",
    "Next Step: Extract Tasks from Uploaded Notes/Documents\n",
    "This will allow users to:\n",
    "- Upload meeting notes, planning docs, or long messages.\n",
    "- Automatically extract multiple tasks/reminders from the document.\n",
    "\"\"\""
   ]
  },
  {
   "cell_type": "code",
   "execution_count": 12,
   "id": "3130e8aa",
   "metadata": {
    "execution": {
     "iopub.execute_input": "2025-04-12T21:51:58.933253Z",
     "iopub.status.busy": "2025-04-12T21:51:58.932940Z",
     "iopub.status.idle": "2025-04-12T21:51:58.938793Z",
     "shell.execute_reply": "2025-04-12T21:51:58.937696Z"
    },
    "papermill": {
     "duration": 0.018497,
     "end_time": "2025-04-12T21:51:58.940405",
     "exception": false,
     "start_time": "2025-04-12T21:51:58.921908",
     "status": "completed"
    },
    "tags": []
   },
   "outputs": [],
   "source": [
    "from IPython.display import Markdown\n",
    "\n",
    "def extract_tasks_from_document(doc_text):\n",
    "    doc_prompt = f\"\"\"\n",
    "You are a smart assistant that reads notes and documents and extracts actionable tasks.\n",
    "Return the tasks as a list of JSON objects. Each task should contain:\n",
    "- \"task\" (required)\n",
    "- \"time\" (optional)\n",
    "- \"condition\" (optional)\n",
    "- \"priority\" (optional)\n",
    "\n",
    "Example Input:\n",
    "\"Meeting discussed finalizing budget next Friday and reaching out to the vendor this week.\"\n",
    "\n",
    "Output:\n",
    "[\n",
    "  {{\"task\": \"Finalize budget\", \"time\": \"next Friday\"}},\n",
    "  {{\"task\": \"Reach out to vendor\", \"time\": \"this week\"}}\n",
    "]\n",
    "\n",
    "Input:\n",
    "\\\"\\\"\\\"{doc_text}\\\"\\\"\\\"\n",
    "\n",
    "Output:\n",
    "\"\"\"\n",
    "\n",
    "    model = genai.GenerativeModel(\"gemini-2.0-flash\")\n",
    "    response = model.generate_content([doc_prompt])\n",
    "    return response.text.strip()\n"
   ]
  },
  {
   "cell_type": "code",
   "execution_count": 13,
   "id": "d947b4fa",
   "metadata": {
    "execution": {
     "iopub.execute_input": "2025-04-12T21:51:58.962139Z",
     "iopub.status.busy": "2025-04-12T21:51:58.961789Z",
     "iopub.status.idle": "2025-04-12T21:52:00.124888Z",
     "shell.execute_reply": "2025-04-12T21:52:00.123677Z"
    },
    "papermill": {
     "duration": 1.175941,
     "end_time": "2025-04-12T21:52:00.126597",
     "exception": false,
     "start_time": "2025-04-12T21:51:58.950656",
     "status": "completed"
    },
    "tags": []
   },
   "outputs": [
    {
     "name": "stdout",
     "output_type": "stream",
     "text": [
      "📝 Extracted Tasks from Document:\n",
      "\n"
     ]
    },
    {
     "data": {
      "text/markdown": [
       "```json\n",
       "```json\n",
       "[\n",
       "  {\"task\": \"Follow up with marketing team\", \"time\": \"next Thursday morning\"},\n",
       "  {\"task\": \"Prepare Q3 roadmap\", \"condition\": \"If client approves\", \"time\": \"by Monday\"},\n",
       "  {\"task\": \"Update project dashboard\", \"time\": \"weekly\"},\n",
       "  {\"task\": \"Schedule demo with engineering\", \"time\": \"next Friday\"}\n",
       "]\n",
       "```\n",
       "```"
      ],
      "text/plain": [
       "<IPython.core.display.Markdown object>"
      ]
     },
     "metadata": {},
     "output_type": "display_data"
    }
   ],
   "source": [
    "sample_doc = \"\"\"\n",
    "- Follow up with marketing team next Thursday morning\n",
    "- If client approves, prepare Q3 roadmap by Monday\n",
    "- Update project dashboard weekly\n",
    "- Schedule demo with engineering next Friday\n",
    "\"\"\"\n",
    "\n",
    "results = extract_tasks_from_document(sample_doc)\n",
    "print(\"📝 Extracted Tasks from Document:\\n\")\n",
    "display(Markdown(f\"```json\\n{results}\\n```\"))\n"
   ]
  },
  {
   "cell_type": "code",
   "execution_count": 14,
   "id": "724def9e",
   "metadata": {
    "execution": {
     "iopub.execute_input": "2025-04-12T21:52:00.148916Z",
     "iopub.status.busy": "2025-04-12T21:52:00.148585Z",
     "iopub.status.idle": "2025-04-12T21:52:00.153109Z",
     "shell.execute_reply": "2025-04-12T21:52:00.152156Z"
    },
    "papermill": {
     "duration": 0.017528,
     "end_time": "2025-04-12T21:52:00.154704",
     "exception": false,
     "start_time": "2025-04-12T21:52:00.137176",
     "status": "completed"
    },
    "tags": []
   },
   "outputs": [],
   "source": [
    " #Gemini just turned your document into clean, structured, actionable tasks. Well done!"
   ]
  },
  {
   "cell_type": "code",
   "execution_count": 15,
   "id": "a8e4b74f",
   "metadata": {
    "execution": {
     "iopub.execute_input": "2025-04-12T21:52:00.176718Z",
     "iopub.status.busy": "2025-04-12T21:52:00.176371Z",
     "iopub.status.idle": "2025-04-12T21:52:00.181942Z",
     "shell.execute_reply": "2025-04-12T21:52:00.180951Z"
    },
    "papermill": {
     "duration": 0.018419,
     "end_time": "2025-04-12T21:52:00.183585",
     "exception": false,
     "start_time": "2025-04-12T21:52:00.165166",
     "status": "completed"
    },
    "tags": []
   },
   "outputs": [],
   "source": [
    "def clean_json_string(json_string):\n",
    "    # Remove Markdown-style code blocks like ```json ... ```\n",
    "    if json_string.startswith(\"```\"):\n",
    "        json_string = json_string.strip(\"`\")  # remove leading/trailing backticks\n",
    "        lines = json_string.splitlines()\n",
    "        json_string = \"\\n\".join(line for line in lines if not line.strip().startswith(\"json\"))\n",
    "    return json_string.strip()\n"
   ]
  },
  {
   "cell_type": "code",
   "execution_count": 16,
   "id": "76d9ed3a",
   "metadata": {
    "execution": {
     "iopub.execute_input": "2025-04-12T21:52:00.205575Z",
     "iopub.status.busy": "2025-04-12T21:52:00.205213Z",
     "iopub.status.idle": "2025-04-12T21:52:00.212180Z",
     "shell.execute_reply": "2025-04-12T21:52:00.211243Z"
    },
    "papermill": {
     "duration": 0.019901,
     "end_time": "2025-04-12T21:52:00.213959",
     "exception": false,
     "start_time": "2025-04-12T21:52:00.194058",
     "status": "completed"
    },
    "tags": []
   },
   "outputs": [],
   "source": [
    "def save_tasks_to_memory(json_string, source=\"user input\"):\n",
    "    json_string = clean_json_string(json_string)  # 🧹 Clean first\n",
    "    tasks = json.loads(json_string)\n",
    "    \n",
    "    for task_obj in tasks:\n",
    "        task_text = task_obj.get(\"task\", \"\")\n",
    "        if not task_text:\n",
    "            continue\n",
    "\n",
    "        embedding = get_gemini_embedding(task_text)\n",
    "        index.add(np.array([embedding]))\n",
    "\n",
    "        task_texts.append(task_text)\n",
    "        task_metadata.append({\n",
    "            \"task\": task_text,\n",
    "            \"time\": task_obj.get(\"time\"),\n",
    "            \"condition\": task_obj.get(\"condition\"),\n",
    "            \"priority\": task_obj.get(\"priority\"),\n",
    "            \"source\": source\n",
    "        })\n",
    "\n",
    "        print(\"✅ Saved:\", task_text)\n"
   ]
  },
  {
   "cell_type": "code",
   "execution_count": 17,
   "id": "7a65dd2f",
   "metadata": {
    "execution": {
     "iopub.execute_input": "2025-04-12T21:52:00.236915Z",
     "iopub.status.busy": "2025-04-12T21:52:00.236577Z",
     "iopub.status.idle": "2025-04-12T21:52:00.241490Z",
     "shell.execute_reply": "2025-04-12T21:52:00.240306Z"
    },
    "papermill": {
     "duration": 0.019257,
     "end_time": "2025-04-12T21:52:00.243606",
     "exception": false,
     "start_time": "2025-04-12T21:52:00.224349",
     "status": "completed"
    },
    "tags": []
   },
   "outputs": [],
   "source": [
    "# import ast\n",
    "# #\n",
    "# def safe_json_parse(text):\n",
    "#     try:\n",
    "#         return json.loads(text)\n",
    "#     except json.JSONDecodeError:\n",
    "#         try:\n",
    "#             return ast.literal_eval(text)\n",
    "#         except:\n",
    "#             return []\n"
   ]
  },
  {
   "cell_type": "code",
   "execution_count": 18,
   "id": "af4f7926",
   "metadata": {
    "execution": {
     "iopub.execute_input": "2025-04-12T21:52:00.321234Z",
     "iopub.status.busy": "2025-04-12T21:52:00.320494Z",
     "iopub.status.idle": "2025-04-12T21:52:00.325505Z",
     "shell.execute_reply": "2025-04-12T21:52:00.324485Z"
    },
    "papermill": {
     "duration": 0.072477,
     "end_time": "2025-04-12T21:52:00.327033",
     "exception": false,
     "start_time": "2025-04-12T21:52:00.254556",
     "status": "completed"
    },
    "tags": []
   },
   "outputs": [
    {
     "name": "stdout",
     "output_type": "stream",
     "text": [
      "🧐 Debug - results:\n",
      " ```json\n",
      "[\n",
      "  {\"task\": \"Follow up with marketing team\", \"time\": \"next Thursday morning\"},\n",
      "  {\"task\": \"Prepare Q3 roadmap\", \"condition\": \"If client approves\", \"time\": \"by Monday\"},\n",
      "  {\"task\": \"Update project dashboard\", \"time\": \"weekly\"},\n",
      "  {\"task\": \"Schedule demo with engineering\", \"time\": \"next Friday\"}\n",
      "]\n",
      "```\n"
     ]
    }
   ],
   "source": [
    "print(\"🧐 Debug - results:\\n\", results)"
   ]
  },
  {
   "cell_type": "code",
   "execution_count": 19,
   "id": "3e390dc5",
   "metadata": {
    "execution": {
     "iopub.execute_input": "2025-04-12T21:52:00.349822Z",
     "iopub.status.busy": "2025-04-12T21:52:00.349046Z",
     "iopub.status.idle": "2025-04-12T21:52:00.354427Z",
     "shell.execute_reply": "2025-04-12T21:52:00.353371Z"
    },
    "papermill": {
     "duration": 0.018797,
     "end_time": "2025-04-12T21:52:00.356443",
     "exception": false,
     "start_time": "2025-04-12T21:52:00.337646",
     "status": "completed"
    },
    "tags": []
   },
   "outputs": [],
   "source": [
    "def get_gemini_embedding(text):\n",
    "    response = genai.embed_content(\n",
    "        model=\"models/text-embedding-004\",\n",
    "        content=text,\n",
    "        task_type=\"semantic_similarity\"\n",
    "    )\n",
    "    return np.array(response[\"embedding\"], dtype=np.float32)\n"
   ]
  },
  {
   "cell_type": "code",
   "execution_count": 20,
   "id": "2b588086",
   "metadata": {
    "execution": {
     "iopub.execute_input": "2025-04-12T21:52:00.379221Z",
     "iopub.status.busy": "2025-04-12T21:52:00.378861Z",
     "iopub.status.idle": "2025-04-12T21:52:02.256718Z",
     "shell.execute_reply": "2025-04-12T21:52:02.255619Z"
    },
    "papermill": {
     "duration": 1.891182,
     "end_time": "2025-04-12T21:52:02.258260",
     "exception": false,
     "start_time": "2025-04-12T21:52:00.367078",
     "status": "completed"
    },
    "tags": []
   },
   "outputs": [
    {
     "name": "stdout",
     "output_type": "stream",
     "text": [
      "✅ Saved: Follow up with marketing team\n",
      "✅ Saved: Prepare Q3 roadmap\n",
      "✅ Saved: Update project dashboard\n",
      "✅ Saved: Schedule demo with engineering\n"
     ]
    }
   ],
   "source": [
    "save_tasks_to_memory(results, source=\"sample document\")\n"
   ]
  },
  {
   "cell_type": "code",
   "execution_count": 21,
   "id": "0fd97a0b",
   "metadata": {
    "execution": {
     "iopub.execute_input": "2025-04-12T21:52:02.281544Z",
     "iopub.status.busy": "2025-04-12T21:52:02.281165Z",
     "iopub.status.idle": "2025-04-12T21:52:02.285513Z",
     "shell.execute_reply": "2025-04-12T21:52:02.284446Z"
    },
    "papermill": {
     "duration": 0.017484,
     "end_time": "2025-04-12T21:52:02.286995",
     "exception": false,
     "start_time": "2025-04-12T21:52:02.269511",
     "status": "completed"
    },
    "tags": []
   },
   "outputs": [],
   "source": [
    "#All your tasks were successfully saved into memory using Gemini embeddings + FAISS"
   ]
  },
  {
   "cell_type": "code",
   "execution_count": 22,
   "id": "895dc508",
   "metadata": {
    "execution": {
     "iopub.execute_input": "2025-04-12T21:52:02.310331Z",
     "iopub.status.busy": "2025-04-12T21:52:02.310028Z",
     "iopub.status.idle": "2025-04-12T21:52:02.338214Z",
     "shell.execute_reply": "2025-04-12T21:52:02.337305Z"
    },
    "papermill": {
     "duration": 0.041887,
     "end_time": "2025-04-12T21:52:02.339700",
     "exception": false,
     "start_time": "2025-04-12T21:52:02.297813",
     "status": "completed"
    },
    "tags": []
   },
   "outputs": [
    {
     "data": {
      "text/html": [
       "<div>\n",
       "<style scoped>\n",
       "    .dataframe tbody tr th:only-of-type {\n",
       "        vertical-align: middle;\n",
       "    }\n",
       "\n",
       "    .dataframe tbody tr th {\n",
       "        vertical-align: top;\n",
       "    }\n",
       "\n",
       "    .dataframe thead th {\n",
       "        text-align: right;\n",
       "    }\n",
       "</style>\n",
       "<table border=\"1\" class=\"dataframe\">\n",
       "  <thead>\n",
       "    <tr style=\"text-align: right;\">\n",
       "      <th></th>\n",
       "      <th>task</th>\n",
       "      <th>time</th>\n",
       "      <th>condition</th>\n",
       "      <th>priority</th>\n",
       "      <th>source</th>\n",
       "    </tr>\n",
       "  </thead>\n",
       "  <tbody>\n",
       "    <tr>\n",
       "      <th>0</th>\n",
       "      <td>Follow up with marketing team</td>\n",
       "      <td>next Thursday morning</td>\n",
       "      <td>None</td>\n",
       "      <td>None</td>\n",
       "      <td>sample document</td>\n",
       "    </tr>\n",
       "    <tr>\n",
       "      <th>1</th>\n",
       "      <td>Prepare Q3 roadmap</td>\n",
       "      <td>by Monday</td>\n",
       "      <td>If client approves</td>\n",
       "      <td>None</td>\n",
       "      <td>sample document</td>\n",
       "    </tr>\n",
       "    <tr>\n",
       "      <th>2</th>\n",
       "      <td>Update project dashboard</td>\n",
       "      <td>weekly</td>\n",
       "      <td>None</td>\n",
       "      <td>None</td>\n",
       "      <td>sample document</td>\n",
       "    </tr>\n",
       "    <tr>\n",
       "      <th>3</th>\n",
       "      <td>Schedule demo with engineering</td>\n",
       "      <td>next Friday</td>\n",
       "      <td>None</td>\n",
       "      <td>None</td>\n",
       "      <td>sample document</td>\n",
       "    </tr>\n",
       "  </tbody>\n",
       "</table>\n",
       "</div>"
      ],
      "text/plain": [
       "                             task                   time           condition  \\\n",
       "0   Follow up with marketing team  next Thursday morning                None   \n",
       "1              Prepare Q3 roadmap              by Monday  If client approves   \n",
       "2        Update project dashboard                 weekly                None   \n",
       "3  Schedule demo with engineering            next Friday                None   \n",
       "\n",
       "  priority           source  \n",
       "0     None  sample document  \n",
       "1     None  sample document  \n",
       "2     None  sample document  \n",
       "3     None  sample document  "
      ]
     },
     "execution_count": 22,
     "metadata": {},
     "output_type": "execute_result"
    }
   ],
   "source": [
    "# View everything saved so far\n",
    "import pandas as pd\n",
    "\n",
    "def show_all_saved_tasks():\n",
    "    return pd.DataFrame(task_metadata)\n",
    "\n",
    "show_all_saved_tasks()\n"
   ]
  },
  {
   "cell_type": "code",
   "execution_count": 23,
   "id": "090b3e03",
   "metadata": {
    "execution": {
     "iopub.execute_input": "2025-04-12T21:52:02.363022Z",
     "iopub.status.busy": "2025-04-12T21:52:02.362713Z",
     "iopub.status.idle": "2025-04-12T21:52:02.367516Z",
     "shell.execute_reply": "2025-04-12T21:52:02.366181Z"
    },
    "papermill": {
     "duration": 0.018277,
     "end_time": "2025-04-12T21:52:02.369156",
     "exception": false,
     "start_time": "2025-04-12T21:52:02.350879",
     "status": "completed"
    },
    "tags": []
   },
   "outputs": [],
   "source": [
    "#Let’s search saved tasks using similarity"
   ]
  },
  {
   "cell_type": "code",
   "execution_count": 24,
   "id": "389e661d",
   "metadata": {
    "execution": {
     "iopub.execute_input": "2025-04-12T21:52:02.392925Z",
     "iopub.status.busy": "2025-04-12T21:52:02.392617Z",
     "iopub.status.idle": "2025-04-12T21:52:02.710241Z",
     "shell.execute_reply": "2025-04-12T21:52:02.709126Z"
    },
    "papermill": {
     "duration": 0.331875,
     "end_time": "2025-04-12T21:52:02.712311",
     "exception": false,
     "start_time": "2025-04-12T21:52:02.380436",
     "status": "completed"
    },
    "tags": []
   },
   "outputs": [
    {
     "name": "stdout",
     "output_type": "stream",
     "text": [
      "\n",
      "🔍 Top 3 matches for: \"marketing goals\"\n",
      "1. ✅ Task: Follow up with marketing team (Source: sample document)\n",
      "2. ✅ Task: Prepare Q3 roadmap (Source: sample document)\n",
      "3. ✅ Task: Update project dashboard (Source: sample document)\n"
     ]
    }
   ],
   "source": [
    "def query_similar_tasks(user_query, top_k=3):\n",
    "    query_embedding = get_gemini_embedding(user_query)\n",
    "    scores, indices = index.search(np.array([query_embedding]), top_k)\n",
    "\n",
    "    print(f\"\\n🔍 Top {top_k} matches for: \\\"{user_query}\\\"\")\n",
    "    for i, idx in enumerate(indices[0]):\n",
    "        if idx < len(task_texts):\n",
    "            task = task_metadata[idx]\n",
    "            print(f\"{i+1}. ✅ Task: {task['task']} (Source: {task['source']})\")\n",
    "\n",
    "# 🔎 Try with this:\n",
    "query_similar_tasks(\"marketing goals\")\n"
   ]
  },
  {
   "cell_type": "code",
   "execution_count": 25,
   "id": "77c16da2",
   "metadata": {
    "execution": {
     "iopub.execute_input": "2025-04-12T21:52:02.737859Z",
     "iopub.status.busy": "2025-04-12T21:52:02.737557Z",
     "iopub.status.idle": "2025-04-12T21:52:02.750694Z",
     "shell.execute_reply": "2025-04-12T21:52:02.749633Z"
    },
    "papermill": {
     "duration": 0.027976,
     "end_time": "2025-04-12T21:52:02.752200",
     "exception": false,
     "start_time": "2025-04-12T21:52:02.724224",
     "status": "completed"
    },
    "tags": []
   },
   "outputs": [
    {
     "name": "stdout",
     "output_type": "stream",
     "text": [
      "✅ Exported to 'tasks.csv'\n"
     ]
    }
   ],
   "source": [
    "def export_tasks_to_csv(filename=\"tasks.csv\"):\n",
    "    df = pd.DataFrame(task_metadata)\n",
    "    df.to_csv(filename, index=False)\n",
    "    print(f\"✅ Exported to '{filename}'\")\n",
    "\n",
    "# Run this:\n",
    "export_tasks_to_csv()\n"
   ]
  },
  {
   "cell_type": "code",
   "execution_count": 26,
   "id": "4092b62d",
   "metadata": {
    "execution": {
     "iopub.execute_input": "2025-04-12T21:52:02.775457Z",
     "iopub.status.busy": "2025-04-12T21:52:02.775118Z",
     "iopub.status.idle": "2025-04-12T21:52:02.779615Z",
     "shell.execute_reply": "2025-04-12T21:52:02.778675Z"
    },
    "papermill": {
     "duration": 0.017709,
     "end_time": "2025-04-12T21:52:02.781127",
     "exception": false,
     "start_time": "2025-04-12T21:52:02.763418",
     "status": "completed"
    },
    "tags": []
   },
   "outputs": [],
   "source": [
    "import warnings\n",
    "warnings.filterwarnings(\"ignore\", category=RuntimeWarning)\n"
   ]
  },
  {
   "cell_type": "code",
   "execution_count": 27,
   "id": "c9318a41",
   "metadata": {
    "execution": {
     "iopub.execute_input": "2025-04-12T21:52:02.805470Z",
     "iopub.status.busy": "2025-04-12T21:52:02.805113Z",
     "iopub.status.idle": "2025-04-12T21:52:02.822648Z",
     "shell.execute_reply": "2025-04-12T21:52:02.821768Z"
    },
    "papermill": {
     "duration": 0.031965,
     "end_time": "2025-04-12T21:52:02.824144",
     "exception": false,
     "start_time": "2025-04-12T21:52:02.792179",
     "status": "completed"
    },
    "tags": []
   },
   "outputs": [
    {
     "data": {
      "text/html": [
       "<div>\n",
       "<style scoped>\n",
       "    .dataframe tbody tr th:only-of-type {\n",
       "        vertical-align: middle;\n",
       "    }\n",
       "\n",
       "    .dataframe tbody tr th {\n",
       "        vertical-align: top;\n",
       "    }\n",
       "\n",
       "    .dataframe thead th {\n",
       "        text-align: right;\n",
       "    }\n",
       "</style>\n",
       "<table border=\"1\" class=\"dataframe\">\n",
       "  <thead>\n",
       "    <tr style=\"text-align: right;\">\n",
       "      <th></th>\n",
       "      <th>task</th>\n",
       "      <th>time</th>\n",
       "      <th>condition</th>\n",
       "      <th>priority</th>\n",
       "      <th>source</th>\n",
       "    </tr>\n",
       "  </thead>\n",
       "  <tbody>\n",
       "    <tr>\n",
       "      <th>0</th>\n",
       "      <td>Follow up with marketing team</td>\n",
       "      <td>next Thursday morning</td>\n",
       "      <td>NaN</td>\n",
       "      <td>NaN</td>\n",
       "      <td>sample document</td>\n",
       "    </tr>\n",
       "    <tr>\n",
       "      <th>1</th>\n",
       "      <td>Prepare Q3 roadmap</td>\n",
       "      <td>by Monday</td>\n",
       "      <td>If client approves</td>\n",
       "      <td>NaN</td>\n",
       "      <td>sample document</td>\n",
       "    </tr>\n",
       "    <tr>\n",
       "      <th>2</th>\n",
       "      <td>Update project dashboard</td>\n",
       "      <td>weekly</td>\n",
       "      <td>NaN</td>\n",
       "      <td>NaN</td>\n",
       "      <td>sample document</td>\n",
       "    </tr>\n",
       "    <tr>\n",
       "      <th>3</th>\n",
       "      <td>Schedule demo with engineering</td>\n",
       "      <td>next Friday</td>\n",
       "      <td>NaN</td>\n",
       "      <td>NaN</td>\n",
       "      <td>sample document</td>\n",
       "    </tr>\n",
       "  </tbody>\n",
       "</table>\n",
       "</div>"
      ],
      "text/plain": [
       "                             task                   time           condition  \\\n",
       "0   Follow up with marketing team  next Thursday morning                 NaN   \n",
       "1              Prepare Q3 roadmap              by Monday  If client approves   \n",
       "2        Update project dashboard                 weekly                 NaN   \n",
       "3  Schedule demo with engineering            next Friday                 NaN   \n",
       "\n",
       "   priority           source  \n",
       "0       NaN  sample document  \n",
       "1       NaN  sample document  \n",
       "2       NaN  sample document  \n",
       "3       NaN  sample document  "
      ]
     },
     "execution_count": 27,
     "metadata": {},
     "output_type": "execute_result"
    }
   ],
   "source": [
    "pd.read_csv(\"tasks.csv\").head()\n"
   ]
  },
  {
   "cell_type": "code",
   "execution_count": 28,
   "id": "ff5c1dc6",
   "metadata": {
    "execution": {
     "iopub.execute_input": "2025-04-12T21:52:02.847905Z",
     "iopub.status.busy": "2025-04-12T21:52:02.847594Z",
     "iopub.status.idle": "2025-04-12T21:52:02.853129Z",
     "shell.execute_reply": "2025-04-12T21:52:02.852260Z"
    },
    "papermill": {
     "duration": 0.01936,
     "end_time": "2025-04-12T21:52:02.854909",
     "exception": false,
     "start_time": "2025-04-12T21:52:02.835549",
     "status": "completed"
    },
    "tags": []
   },
   "outputs": [],
   "source": [
    "import re\n",
    "from datetime import datetime\n",
    "\n",
    "def normalize_day(text):\n",
    "    weekdays = [\"monday\", \"tuesday\", \"wednesday\", \"thursday\", \"friday\", \"saturday\", \"sunday\"]\n",
    "    for day in weekdays:\n",
    "        if re.search(day, text.lower()):\n",
    "            return day.capitalize()\n",
    "    return None\n"
   ]
  },
  {
   "cell_type": "code",
   "execution_count": 29,
   "id": "281f736b",
   "metadata": {
    "execution": {
     "iopub.execute_input": "2025-04-12T21:52:02.878735Z",
     "iopub.status.busy": "2025-04-12T21:52:02.878409Z",
     "iopub.status.idle": "2025-04-12T21:52:02.885470Z",
     "shell.execute_reply": "2025-04-12T21:52:02.884459Z"
    },
    "papermill": {
     "duration": 0.020944,
     "end_time": "2025-04-12T21:52:02.887188",
     "exception": false,
     "start_time": "2025-04-12T21:52:02.866244",
     "status": "completed"
    },
    "tags": []
   },
   "outputs": [],
   "source": [
    "def simulate_reminders(task_list, today=None):\n",
    "    if not today:\n",
    "        today = datetime.now().strftime(\"%A\").lower()\n",
    "    if not task_list:\n",
    "        raise ValueError(\"Task list should be not empty\")\n",
    "        \n",
    "    print(f\"\\n📅 Simulating reminders for: {today.capitalize()}\\n\")\n",
    "    for task in task_list:\n",
    "        task_time = str(task.get(\"time\", \"\")).lower()\n",
    "        task_desc = task.get(\"task\", \"\")\n",
    "        normalized_time = normalize_day(task_time)\n",
    "\n",
    "        # Reminder fires if time is set as \"weekly\" or includes today's weekday\n",
    "        if \"weekly\" in task_time or (normalized_time and today in normalized_time.lower()):\n",
    "            print(f\"🔔 Reminder: {task_desc} → Time: {task_time}\")\n"
   ]
  },
  {
   "cell_type": "code",
   "execution_count": 30,
   "id": "e6e3d40b",
   "metadata": {
    "execution": {
     "iopub.execute_input": "2025-04-12T21:52:02.910653Z",
     "iopub.status.busy": "2025-04-12T21:52:02.910315Z",
     "iopub.status.idle": "2025-04-12T21:52:02.915887Z",
     "shell.execute_reply": "2025-04-12T21:52:02.914740Z"
    },
    "papermill": {
     "duration": 0.018918,
     "end_time": "2025-04-12T21:52:02.917342",
     "exception": false,
     "start_time": "2025-04-12T21:52:02.898424",
     "status": "completed"
    },
    "tags": []
   },
   "outputs": [
    {
     "name": "stdout",
     "output_type": "stream",
     "text": [
      "\n",
      "📅 Simulating reminders for: Friday\n",
      "\n",
      "🔔 Reminder: Update project dashboard → Time: weekly\n",
      "🔔 Reminder: Schedule demo with engineering → Time: next friday\n"
     ]
    }
   ],
   "source": [
    "simulate_reminders(task_metadata, today=\"friday\")\n"
   ]
  },
  {
   "cell_type": "code",
   "execution_count": 31,
   "id": "75cf63dc",
   "metadata": {
    "execution": {
     "iopub.execute_input": "2025-04-12T21:52:02.942008Z",
     "iopub.status.busy": "2025-04-12T21:52:02.941640Z",
     "iopub.status.idle": "2025-04-12T21:52:02.950322Z",
     "shell.execute_reply": "2025-04-12T21:52:02.949459Z"
    },
    "papermill": {
     "duration": 0.023147,
     "end_time": "2025-04-12T21:52:02.951814",
     "exception": false,
     "start_time": "2025-04-12T21:52:02.928667",
     "status": "completed"
    },
    "tags": []
   },
   "outputs": [],
   "source": [
    "from datetime import datetime\n",
    "from collections import defaultdict\n",
    "\n",
    "# 🔁 Memory to learn from user phrasing behavior\n",
    "phrase_history = defaultdict(list)\n",
    "\n",
    "# 📚 Learning helper: stores resolved times for vague phrases\n",
    "def update_phrase_history(phrase, resolved_time):\n",
    "    phrase = phrase.strip().lower()\n",
    "    if resolved_time not in phrase_history[phrase]:\n",
    "        phrase_history[phrase].append(resolved_time)\n",
    "\n",
    "# 🧠 Smarter default time inference\n",
    "def infer_default_time(phrase, now=None):\n",
    "    if now is None:\n",
    "        now = datetime.now()\n",
    "    \n",
    "    phrase = phrase.lower().strip()\n",
    "\n",
    "    # 🔍 Check learned history first\n",
    "    if phrase in phrase_history and phrase_history[phrase]:\n",
    "        return phrase_history[phrase][-1]  # Use most recent learned time\n",
    "\n",
    "    # 🕒 Rule-based default mappings\n",
    "    keyword_map = {\n",
    "        \"afternoon\": \"12:10 PM\",\n",
    "        \"night\": \"7:45 PM\",\n",
    "        \"early morning\": \"7:00 AM\",\n",
    "        \"morning\": \"9:00 AM\",\n",
    "        \"evening\": \"6:00 PM\",\n",
    "    }\n",
    "\n",
    "    for key, value in keyword_map.items():\n",
    "        if key in phrase:\n",
    "            return value\n",
    "\n",
    "    if \"next week\" in phrase:\n",
    "        return \"10:00 AM\"\n",
    "    elif \"next\" in phrase or any(day in phrase for day in [\"friday\", \"monday\", \"tuesday\", \"wednesday\", \"thursday\"]):\n",
    "        return \"10:00 AM\"\n",
    "\n",
    "    return \"12:30 PM\"  # 🛑 Fallback time\n"
   ]
  },
  {
   "cell_type": "code",
   "execution_count": 32,
   "id": "699ef2c3",
   "metadata": {
    "execution": {
     "iopub.execute_input": "2025-04-12T21:52:02.975369Z",
     "iopub.status.busy": "2025-04-12T21:52:02.975078Z",
     "iopub.status.idle": "2025-04-12T21:52:02.980666Z",
     "shell.execute_reply": "2025-04-12T21:52:02.979679Z"
    },
    "papermill": {
     "duration": 0.019238,
     "end_time": "2025-04-12T21:52:02.982294",
     "exception": false,
     "start_time": "2025-04-12T21:52:02.963056",
     "status": "completed"
    },
    "tags": []
   },
   "outputs": [
    {
     "name": "stdout",
     "output_type": "stream",
     "text": [
      "next Friday ➤ 10:00 AM\n",
      "afternoon ➤ 12:10 PM\n",
      "evening ➤ 6:00 PM\n",
      "night ➤ 7:45 PM\n",
      "early morning ➤ 7:00 AM\n",
      "next week ➤ 10:00 AM\n",
      "monday ➤ 10:00 AM\n"
     ]
    }
   ],
   "source": [
    "test_inputs = [\"next Friday\", \"afternoon\", \"evening\", \"night\", \"early morning\", \"next week\", \"monday\"]\n",
    "for t in test_inputs:\n",
    "    print(f\"{t} ➤ {infer_default_time(t)}\")\n"
   ]
  },
  {
   "cell_type": "code",
   "execution_count": 33,
   "id": "b8b68299",
   "metadata": {
    "execution": {
     "iopub.execute_input": "2025-04-12T21:52:03.006315Z",
     "iopub.status.busy": "2025-04-12T21:52:03.006005Z",
     "iopub.status.idle": "2025-04-12T21:52:03.011694Z",
     "shell.execute_reply": "2025-04-12T21:52:03.010680Z"
    },
    "papermill": {
     "duration": 0.019248,
     "end_time": "2025-04-12T21:52:03.013059",
     "exception": false,
     "start_time": "2025-04-12T21:52:02.993811",
     "status": "completed"
    },
    "tags": []
   },
   "outputs": [
    {
     "name": "stdout",
     "output_type": "stream",
     "text": [
      "next week ➤ 4:45 PM\n"
     ]
    }
   ],
   "source": [
    "update_phrase_history(\"next week\", \"4:45 PM\")  # User starts preferring this\n",
    "print(\"next week ➤\", infer_default_time(\"next week\"))  # Will return 2:45 PM now\n"
   ]
  },
  {
   "cell_type": "code",
   "execution_count": 34,
   "id": "f0bd3ee0",
   "metadata": {
    "execution": {
     "iopub.execute_input": "2025-04-12T21:52:03.037533Z",
     "iopub.status.busy": "2025-04-12T21:52:03.036685Z",
     "iopub.status.idle": "2025-04-12T21:52:03.042122Z",
     "shell.execute_reply": "2025-04-12T21:52:03.041242Z"
    },
    "papermill": {
     "duration": 0.019369,
     "end_time": "2025-04-12T21:52:03.043708",
     "exception": false,
     "start_time": "2025-04-12T21:52:03.024339",
     "status": "completed"
    },
    "tags": []
   },
   "outputs": [],
   "source": [
    "# ⏱️ Update task before saving: Fill inferred time if missing or vague\n",
    "def normalize_task_time(task):\n",
    "    vague_time = task.get(\"time\", \"\").strip().lower()\n",
    "    if vague_time:\n",
    "        inferred = infer_default_time(vague_time)\n",
    "        task[\"normalized_time\"] = inferred\n",
    "    else:\n",
    "        task[\"normalized_time\"] = \"12:30 PM\"  # generic fallback\n",
    "    return task\n",
    "\n",
    "\n"
   ]
  },
  {
   "cell_type": "code",
   "execution_count": 35,
   "id": "d9356981",
   "metadata": {
    "execution": {
     "iopub.execute_input": "2025-04-12T21:52:03.068312Z",
     "iopub.status.busy": "2025-04-12T21:52:03.067500Z",
     "iopub.status.idle": "2025-04-12T21:52:03.072838Z",
     "shell.execute_reply": "2025-04-12T21:52:03.071756Z"
    },
    "papermill": {
     "duration": 0.019052,
     "end_time": "2025-04-12T21:52:03.074351",
     "exception": false,
     "start_time": "2025-04-12T21:52:03.055299",
     "status": "completed"
    },
    "tags": []
   },
   "outputs": [
    {
     "name": "stdout",
     "output_type": "stream",
     "text": [
      "Type: <class 'str'>\n",
      "Value: ```json\n",
      "[\n",
      "  {\"task\": \"Follow up with marketing team\", \"time\": \"next Thursday morning\"},\n",
      "  {\"task\": \"Prepare Q3 roadmap\", \"condition\": \"If client approves\", \"time\": \"by Monday\"},\n",
      "  {\"task\": \"Update project dashboard\", \"time\": \"weekly\"},\n",
      "  {\"task\": \"Schedule demo with engineering\", \"time\": \"next Friday\"}\n",
      "]\n",
      "```\n"
     ]
    }
   ],
   "source": [
    "print(\"Type:\", type(results))\n",
    "print(\"Value:\", results)\n"
   ]
  },
  {
   "cell_type": "code",
   "execution_count": 36,
   "id": "6133ab3f",
   "metadata": {
    "execution": {
     "iopub.execute_input": "2025-04-12T21:52:03.100023Z",
     "iopub.status.busy": "2025-04-12T21:52:03.099720Z",
     "iopub.status.idle": "2025-04-12T21:52:03.107466Z",
     "shell.execute_reply": "2025-04-12T21:52:03.106541Z"
    },
    "papermill": {
     "duration": 0.022044,
     "end_time": "2025-04-12T21:52:03.109367",
     "exception": false,
     "start_time": "2025-04-12T21:52:03.087323",
     "status": "completed"
    },
    "tags": []
   },
   "outputs": [],
   "source": [
    "def save_tasks_to_memory(json_input, source=\"user input\"):\n",
    "    # ✅ Handle if it's a string with markdown or backticks\n",
    "    if isinstance(json_input, str):\n",
    "        json_input = json_input.strip()\n",
    "        if json_input.startswith(\"```json\"):\n",
    "            json_input = json_input.replace(\"```json\", \"\").strip()\n",
    "        if json_input.endswith(\"```\"):\n",
    "            json_input = json_input[:-3].strip()\n",
    "        try:\n",
    "            tasks = json.loads(json_input)\n",
    "        except json.JSONDecodeError:\n",
    "            print(\"❌ Still invalid JSON after cleaning.\")\n",
    "            return\n",
    "\n",
    "    elif isinstance(json_input, list):\n",
    "        tasks = json_input\n",
    "    else:\n",
    "        print(\"❌ Unsupported input type.\")\n",
    "        return\n",
    "\n",
    "    for task_obj in tasks:\n",
    "        task_text = task_obj.get(\"task\", \"\")\n",
    "        if not task_text.strip():\n",
    "            continue\n",
    "\n",
    "        resolved_time = task_obj.get(\"time\", \"\")\n",
    "        # resolved_time = assign_feasible_time(raw_time)\n",
    "\n",
    "        embedding = get_gemini_embedding(task_text)\n",
    "        index.add(np.array([embedding]))\n",
    "\n",
    "        task_texts.append(task_text)\n",
    "        task_metadata.append({\n",
    "            **task_obj,\n",
    "            \"resolved_time\": resolved_time,\n",
    "            \"source\": source\n",
    "        })\n",
    "\n",
    "        print(f\"✅ Saved: {task_text} ⏰ → {resolved_time}\")\n"
   ]
  },
  {
   "cell_type": "code",
   "execution_count": 37,
   "id": "f2bde71a",
   "metadata": {
    "execution": {
     "iopub.execute_input": "2025-04-12T21:52:03.135157Z",
     "iopub.status.busy": "2025-04-12T21:52:03.134356Z",
     "iopub.status.idle": "2025-04-12T21:52:03.139573Z",
     "shell.execute_reply": "2025-04-12T21:52:03.138576Z"
    },
    "papermill": {
     "duration": 0.020025,
     "end_time": "2025-04-12T21:52:03.141014",
     "exception": false,
     "start_time": "2025-04-12T21:52:03.120989",
     "status": "completed"
    },
    "tags": []
   },
   "outputs": [
    {
     "name": "stdout",
     "output_type": "stream",
     "text": [
      "Type: <class 'str'>\n",
      "Value: ```json\n",
      "[\n",
      "  {\"task\": \"Follow up with marketing team\", \"time\": \"next Thursday morning\"},\n",
      "  {\"task\": \"Prepare Q3 roadmap\", \"condition\": \"If client approves\", \"time\": \"by Monday\"},\n",
      "  {\"task\": \"Update project dashboard\", \"time\": \"weekly\"},\n",
      "  {\"task\": \"Schedule demo with engineering\", \"time\": \"next Friday\"}\n",
      "]\n",
      "```\n"
     ]
    }
   ],
   "source": [
    "print(\"Type:\", type(results))\n",
    "print(\"Value:\", results)"
   ]
  },
  {
   "cell_type": "code",
   "execution_count": 38,
   "id": "3b0bdd59",
   "metadata": {
    "execution": {
     "iopub.execute_input": "2025-04-12T21:52:03.165896Z",
     "iopub.status.busy": "2025-04-12T21:52:03.164960Z",
     "iopub.status.idle": "2025-04-12T21:52:04.393923Z",
     "shell.execute_reply": "2025-04-12T21:52:04.392872Z"
    },
    "papermill": {
     "duration": 1.242961,
     "end_time": "2025-04-12T21:52:04.395538",
     "exception": false,
     "start_time": "2025-04-12T21:52:03.152577",
     "status": "completed"
    },
    "tags": []
   },
   "outputs": [
    {
     "name": "stdout",
     "output_type": "stream",
     "text": [
      "✅ Saved: Follow up with marketing team ⏰ → next Thursday morning\n",
      "✅ Saved: Prepare Q3 roadmap ⏰ → by Monday\n",
      "✅ Saved: Update project dashboard ⏰ → weekly\n",
      "✅ Saved: Schedule demo with engineering ⏰ → next Friday\n"
     ]
    }
   ],
   "source": [
    "save_tasks_to_memory(results, source=\"sample document\")\n"
   ]
  },
  {
   "cell_type": "code",
   "execution_count": 39,
   "id": "d34c621d",
   "metadata": {
    "execution": {
     "iopub.execute_input": "2025-04-12T21:52:04.420796Z",
     "iopub.status.busy": "2025-04-12T21:52:04.420484Z",
     "iopub.status.idle": "2025-04-12T21:52:04.425337Z",
     "shell.execute_reply": "2025-04-12T21:52:04.424189Z"
    },
    "papermill": {
     "duration": 0.01952,
     "end_time": "2025-04-12T21:52:04.427005",
     "exception": false,
     "start_time": "2025-04-12T21:52:04.407485",
     "status": "completed"
    },
    "tags": []
   },
   "outputs": [],
   "source": [
    "phrase_history = {\n",
    "    \"next friday\": [\"7:00 PM\", \"6:30 PM\"],\n",
    "    \"afternoon\": [\"12:10 PM\", \"2:00 PM\"],\n",
    "    \"evening\": [\"6:00 PM\", \"6:00 PM\"]\n",
    "}\n"
   ]
  },
  {
   "cell_type": "code",
   "execution_count": 40,
   "id": "07d57a74",
   "metadata": {
    "execution": {
     "iopub.execute_input": "2025-04-12T21:52:04.451596Z",
     "iopub.status.busy": "2025-04-12T21:52:04.451251Z",
     "iopub.status.idle": "2025-04-12T21:52:04.456793Z",
     "shell.execute_reply": "2025-04-12T21:52:04.455658Z"
    },
    "papermill": {
     "duration": 0.019509,
     "end_time": "2025-04-12T21:52:04.458235",
     "exception": false,
     "start_time": "2025-04-12T21:52:04.438726",
     "status": "completed"
    },
    "tags": []
   },
   "outputs": [
    {
     "name": "stdout",
     "output_type": "stream",
     "text": [
      "\n",
      "🧠 Learned Phrases & Times:\n",
      "next friday → ['7:00 PM', '6:30 PM']\n",
      "afternoon → ['12:10 PM', '2:00 PM']\n",
      "evening → ['6:00 PM', '6:00 PM']\n"
     ]
    }
   ],
   "source": [
    "# View learned phrase behavior\n",
    "print(\"\\n🧠 Learned Phrases & Times:\")\n",
    "for phrase, times in phrase_history.items():\n",
    "    print(f\"{phrase} → {times}\")\n"
   ]
  },
  {
   "cell_type": "code",
   "execution_count": 41,
   "id": "d394dad6",
   "metadata": {
    "execution": {
     "iopub.execute_input": "2025-04-12T21:52:04.483263Z",
     "iopub.status.busy": "2025-04-12T21:52:04.482563Z",
     "iopub.status.idle": "2025-04-12T21:52:04.487349Z",
     "shell.execute_reply": "2025-04-12T21:52:04.486528Z"
    },
    "papermill": {
     "duration": 0.019027,
     "end_time": "2025-04-12T21:52:04.488920",
     "exception": false,
     "start_time": "2025-04-12T21:52:04.469893",
     "status": "completed"
    },
    "tags": []
   },
   "outputs": [],
   "source": [
    "from collections import defaultdict, Counter\n",
    "\n",
    "# Global phrase history\n",
    "phrase_history = defaultdict(list)\n",
    "\n",
    "# Save inferred time to phrase history\n",
    "def update_phrase_history(vague_phrase, resolved_time):\n",
    "    if vague_phrase:\n",
    "        phrase_history[vague_phrase.lower()].append(resolved_time)\n"
   ]
  },
  {
   "cell_type": "code",
   "execution_count": 42,
   "id": "a54fc0d0",
   "metadata": {
    "execution": {
     "iopub.execute_input": "2025-04-12T21:52:04.513517Z",
     "iopub.status.busy": "2025-04-12T21:52:04.513152Z",
     "iopub.status.idle": "2025-04-12T21:52:04.545776Z",
     "shell.execute_reply": "2025-04-12T21:52:04.544842Z"
    },
    "papermill": {
     "duration": 0.046807,
     "end_time": "2025-04-12T21:52:04.547538",
     "exception": false,
     "start_time": "2025-04-12T21:52:04.500731",
     "status": "completed"
    },
    "tags": []
   },
   "outputs": [],
   "source": [
    "import datetime\n",
    "import os\n",
    "from google_auth_oauthlib.flow import InstalledAppFlow\n",
    "from googleapiclient.discovery import build\n",
    "\n",
    "# Authenticate and build calendar service\n",
    "def setup_google_calendar():\n",
    "    SCOPES = ['https://www.googleapis.com/auth/calendar']\n",
    "    flow = InstalledAppFlow.from_client_secrets_file('credentials.json', SCOPES)\n",
    "    creds = flow.run_local_server(port=0)\n",
    "    service = build('calendar', 'v3', credentials=creds)\n",
    "    return service\n"
   ]
  },
  {
   "cell_type": "code",
   "execution_count": 43,
   "id": "c9450bd5",
   "metadata": {
    "execution": {
     "iopub.execute_input": "2025-04-12T21:52:04.572459Z",
     "iopub.status.busy": "2025-04-12T21:52:04.572094Z",
     "iopub.status.idle": "2025-04-12T21:52:04.579105Z",
     "shell.execute_reply": "2025-04-12T21:52:04.578192Z"
    },
    "papermill": {
     "duration": 0.021342,
     "end_time": "2025-04-12T21:52:04.580765",
     "exception": false,
     "start_time": "2025-04-12T21:52:04.559423",
     "status": "completed"
    },
    "tags": []
   },
   "outputs": [],
   "source": [
    "def create_calendar_event(service, task, date_str, time_str=\"10:00 AM\"):\n",
    "    try:\n",
    "        dt_str = f\"{date_str} {time_str}\"\n",
    "        start_time = datetime.datetime.strptime(dt_str, \"%Y-%m-%d %I:%M %p\")\n",
    "        end_time = start_time + datetime.timedelta(hours=1)\n",
    "\n",
    "        event = {\n",
    "            'summary': task,\n",
    "            'start': {\n",
    "                'dateTime': start_time.isoformat(),\n",
    "                'timeZone': 'America/Chicago',  # change to your time zone\n",
    "            },\n",
    "            'end': {\n",
    "                'dateTime': end_time.isoformat(),\n",
    "                'timeZone': 'America/Chicago',\n",
    "            },\n",
    "            'reminders': {\n",
    "                'useDefault': True,\n",
    "            },\n",
    "        }\n",
    "\n",
    "        event_result = service.events().insert(calendarId='primary', body=event).execute()\n",
    "        print(f\"✅ Event created: {event_result.get('htmlLink')}\")\n",
    "    except Exception as e:\n",
    "        print(\"❌ Failed to create event:\", e)\n"
   ]
  },
  {
   "cell_type": "code",
   "execution_count": 44,
   "id": "8cea0ce2",
   "metadata": {
    "execution": {
     "iopub.execute_input": "2025-04-12T21:52:04.605822Z",
     "iopub.status.busy": "2025-04-12T21:52:04.605524Z",
     "iopub.status.idle": "2025-04-12T21:52:04.695611Z",
     "shell.execute_reply": "2025-04-12T21:52:04.694474Z"
    },
    "papermill": {
     "duration": 0.104437,
     "end_time": "2025-04-12T21:52:04.697376",
     "exception": false,
     "start_time": "2025-04-12T21:52:04.592939",
     "status": "completed"
    },
    "tags": []
   },
   "outputs": [],
   "source": [
    "from google.oauth2 import service_account\n",
    "from googleapiclient.discovery import build\n",
    "calendar_id = 'primary'\n",
    "# Path to the uploaded service account key\n",
    "SERVICE_ACCOUNT_FILE = '/kaggle/input/credentials/sigma-gateway-367511-a5f3c9c6fcf2.json'\n",
    "SCOPES = ['https://www.googleapis.com/auth/calendar']\n",
    "\n",
    "# Create credentials\n",
    "creds = service_account.Credentials.from_service_account_file(\n",
    "    SERVICE_ACCOUNT_FILE, scopes=SCOPES)\n",
    "\n",
    "# Build the service\n",
    "calendar_service = build('calendar', 'v3', credentials=creds)\n"
   ]
  },
  {
   "cell_type": "code",
   "execution_count": 45,
   "id": "94ab3726",
   "metadata": {
    "execution": {
     "iopub.execute_input": "2025-04-12T21:52:04.722968Z",
     "iopub.status.busy": "2025-04-12T21:52:04.722679Z",
     "iopub.status.idle": "2025-04-12T21:52:05.138468Z",
     "shell.execute_reply": "2025-04-12T21:52:05.137518Z"
    },
    "papermill": {
     "duration": 0.430086,
     "end_time": "2025-04-12T21:52:05.140048",
     "exception": false,
     "start_time": "2025-04-12T21:52:04.709962",
     "status": "completed"
    },
    "tags": []
   },
   "outputs": [
    {
     "name": "stdout",
     "output_type": "stream",
     "text": [
      "✅ Event created: https://www.google.com/calendar/event?eid=dDlpcXN0Ym4zZThoZzAxNmc3NzhyODZhaWMgZ2VuYWlzZXJ2aWNlQHNpZ21hLWdhdGV3YXktMzY3NTExLmlhbS5nc2VydmljZWFjY291bnQuY29t\n"
     ]
    }
   ],
   "source": [
    "create_calendar_event(calendar_service, task=\"Demo with marketing\", date_str=\"2025-04-14\", time_str=\"12:10 PM\")\n"
   ]
  },
  {
   "cell_type": "code",
   "execution_count": 46,
   "id": "aabb2eef",
   "metadata": {
    "execution": {
     "iopub.execute_input": "2025-04-12T21:52:05.164877Z",
     "iopub.status.busy": "2025-04-12T21:52:05.164579Z",
     "iopub.status.idle": "2025-04-12T21:52:05.318085Z",
     "shell.execute_reply": "2025-04-12T21:52:05.317005Z"
    },
    "papermill": {
     "duration": 0.16789,
     "end_time": "2025-04-12T21:52:05.319759",
     "exception": false,
     "start_time": "2025-04-12T21:52:05.151869",
     "status": "completed"
    },
    "tags": []
   },
   "outputs": [
    {
     "name": "stdout",
     "output_type": "stream",
     "text": [
      "2025-04-14T17:10:00Z - Demo with marketing\n",
      "2025-04-14T17:10:00Z - Demo with marketing\n",
      "2025-04-14T17:10:00Z - Demo with marketing\n",
      "2025-04-14T17:10:00Z - Demo with marketing\n",
      "2025-04-14T17:10:00Z - Demo with marketing\n"
     ]
    }
   ],
   "source": [
    "# Set time range: now to 7 days from now\n",
    "from datetime import datetime, timedelta\n",
    "now = datetime.utcnow().isoformat() + 'Z'  # 'Z' indicates UTC time\n",
    "one_week_later = (datetime.utcnow() + timedelta(days=7)).isoformat() + 'Z'\n",
    "# Fetch events\n",
    "events_result = calendar_service.events().list(\n",
    "    calendarId=calendar_id,\n",
    "    timeMin=now,\n",
    "    timeMax=one_week_later,\n",
    "    maxResults=10,\n",
    "    singleEvents=True,\n",
    "    orderBy='startTime'\n",
    ").execute()\n",
    "\n",
    "events = events_result.get('items', [])\n",
    "\n",
    "# Print events\n",
    "if not events:\n",
    "    print('No upcoming events found.')\n",
    "for event in events:\n",
    "    start = event['start'].get('dateTime', event['start'].get('date'))\n",
    "    print(f\"{start} - {event['summary']}\")\n",
    "\n",
    "calendar_list = calendar_service.calendarList().list().execute()\n",
    "for calendar_entry in calendar_list.get('items', []):\n",
    "    print(calendar_entry)\n"
   ]
  },
  {
   "cell_type": "code",
   "execution_count": null,
   "id": "3d0504b8",
   "metadata": {
    "papermill": {
     "duration": 0.011642,
     "end_time": "2025-04-12T21:52:05.343470",
     "exception": false,
     "start_time": "2025-04-12T21:52:05.331828",
     "status": "completed"
    },
    "tags": []
   },
   "outputs": [],
   "source": []
  }
 ],
 "metadata": {
  "kaggle": {
   "accelerator": "none",
   "dataSources": [
    {
     "datasetId": 7126775,
     "sourceId": 11381926,
     "sourceType": "datasetVersion"
    },
    {
     "datasetId": 7126797,
     "sourceId": 11381950,
     "sourceType": "datasetVersion"
    }
   ],
   "dockerImageVersionId": 31012,
   "isGpuEnabled": false,
   "isInternetEnabled": true,
   "language": "python",
   "sourceType": "notebook"
  },
  "kernelspec": {
   "display_name": "Python 3",
   "language": "python",
   "name": "python3"
  },
  "language_info": {
   "codemirror_mode": {
    "name": "ipython",
    "version": 3
   },
   "file_extension": ".py",
   "mimetype": "text/x-python",
   "name": "python",
   "nbconvert_exporter": "python",
   "pygments_lexer": "ipython3",
   "version": "3.11.11"
  },
  "papermill": {
   "default_parameters": {},
   "duration": 34.182935,
   "end_time": "2025-04-12T21:52:08.135642",
   "environment_variables": {},
   "exception": null,
   "input_path": "__notebook__.ipynb",
   "output_path": "__notebook__.ipynb",
   "parameters": {},
   "start_time": "2025-04-12T21:51:33.952707",
   "version": "2.6.0"
  }
 },
 "nbformat": 4,
 "nbformat_minor": 5
}
